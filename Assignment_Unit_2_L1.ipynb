{
  "nbformat": 4,
  "nbformat_minor": 0,
  "metadata": {
    "colab": {
      "name": "Assignment Unit 2_L2.ipynb",
      "provenance": [],
      "authorship_tag": "ABX9TyM9ejwXQN1D0tmySXUL4Vp4",
      "include_colab_link": true
    },
    "kernelspec": {
      "name": "python3",
      "display_name": "Python 3"
    },
    "language_info": {
      "name": "python"
    }
  },
  "cells": [
    {
      "cell_type": "markdown",
      "metadata": {
        "id": "view-in-github",
        "colab_type": "text"
      },
      "source": [
        "<a href=\"https://colab.research.google.com/github/Susan0000/Mirco-Credential/blob/main/Assignment_Unit_2_L2.ipynb\" target=\"_parent\"><img src=\"https://colab.research.google.com/assets/colab-badge.svg\" alt=\"Open In Colab\"/></a>"
      ]
    },
    {
      "cell_type": "markdown",
      "source": [
        "1. What is Python and why is it useful?\n",
        "\n",
        "Python is a object-oriented and high-level programming language. It is a string and dynamically-typed language so it is useful."
      ],
      "metadata": {
        "id": "XkcsM81pJc-T"
      }
    },
    {
      "cell_type": "markdown",
      "source": [
        "2. Are the following variable names allowed in puthon?\n",
        "\n",
        "a. 1_message = no\n",
        "b. Greeting_message = yes\n",
        "c. Message_1 = yes\n",
        "d. First name = no\n",
        "e. Full_name = yes\n",
        "\n"
      ],
      "metadata": {
        "id": "98XjspErLBMW"
      }
    },
    {
      "cell_type": "markdown",
      "source": [
        "3. Create a variable that holds the string “hello there!”"
      ],
      "metadata": {
        "id": "QB_TchxQL8uB"
      }
    },
    {
      "cell_type": "code",
      "source": [
        "a= \"hello there!\"\n",
        "print(a)"
      ],
      "metadata": {
        "colab": {
          "base_uri": "https://localhost:8080/"
        },
        "id": "BfQRDzoWL_Tj",
        "outputId": "2d6612f2-3270-4323-8d71-8ad7859e3b49"
      },
      "execution_count": null,
      "outputs": [
        {
          "output_type": "stream",
          "name": "stdout",
          "text": [
            "hello there!\n"
          ]
        }
      ]
    },
    {
      "cell_type": "markdown",
      "source": [
        "4. Create a variable for first name, last name and an email extension. Concatenating all three\n",
        "together to form an email address. For example: firstnamelastname@gmail.com"
      ],
      "metadata": {
        "id": "xv8PVWIRMZab"
      }
    },
    {
      "cell_type": "code",
      "source": [
        "x = \"firstname\"\n",
        "y = \"lastname\"\n",
        "z = \"@gmail.com\"\n",
        "email = x + y + z\n",
        "print(email)"
      ],
      "metadata": {
        "colab": {
          "base_uri": "https://localhost:8080/"
        },
        "id": "SJR3hHh0Mfss",
        "outputId": "460e399f-2b0f-4e24-91c2-078fb3f2a6b5"
      },
      "execution_count": null,
      "outputs": [
        {
          "output_type": "stream",
          "name": "stdout",
          "text": [
            "firstnamelastname@gmail.com\n"
          ]
        }
      ]
    },
    {
      "cell_type": "markdown",
      "source": [
        "5. Store someone you know name in a variable called name. Print their name in lower and\n",
        "uppercase using a method."
      ],
      "metadata": {
        "id": "Grf_oZ46M9mh"
      }
    },
    {
      "cell_type": "code",
      "source": [
        "name = \"Li\"\n",
        "print(name.upper())\n",
        "print(name.lower())"
      ],
      "metadata": {
        "colab": {
          "base_uri": "https://localhost:8080/"
        },
        "id": "N-hg2U-dNB8b",
        "outputId": "eb493a0e-08a7-4fcc-f989-b89a44485066"
      },
      "execution_count": null,
      "outputs": [
        {
          "output_type": "stream",
          "name": "stdout",
          "text": [
            "LI\n",
            "li\n"
          ]
        }
      ]
    },
    {
      "cell_type": "markdown",
      "source": [
        "6. Using a variable, ask your friend if they want to hang out on the 15 th of the month. For example,\n",
        "“Do you want to hang out on the 15 th of this month?” You should have to convert the number to a string."
      ],
      "metadata": {
        "id": "YvV-Qz-NNVU4"
      }
    },
    {
      "cell_type": "code",
      "source": [
        "print(\"Do you want to hang out on the \" + str(15) + \" of this month?\")"
      ],
      "metadata": {
        "colab": {
          "base_uri": "https://localhost:8080/"
        },
        "id": "tBpwGC8SN-jm",
        "outputId": "4829586f-e0aa-47bc-eb59-09e22f32cafb"
      },
      "execution_count": null,
      "outputs": [
        {
          "output_type": "stream",
          "name": "stdout",
          "text": [
            "Do you want to hang out on the 15 of this month?\n"
          ]
        }
      ]
    }
  ]
}

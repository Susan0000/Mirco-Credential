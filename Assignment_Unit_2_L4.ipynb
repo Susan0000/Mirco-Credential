{
  "nbformat": 4,
  "nbformat_minor": 0,
  "metadata": {
    "colab": {
      "name": "Assignment Unit 2_L4.ipynb",
      "provenance": [],
      "authorship_tag": "ABX9TyNjQ8ToW9o3FJOqlBzGZf25",
      "include_colab_link": true
    },
    "kernelspec": {
      "name": "python3",
      "display_name": "Python 3"
    },
    "language_info": {
      "name": "python"
    }
  },
  "cells": [
    {
      "cell_type": "markdown",
      "metadata": {
        "id": "view-in-github",
        "colab_type": "text"
      },
      "source": [
        "<a href=\"https://colab.research.google.com/github/Susan0000/Mirco-Credential/blob/main/Assignment_Unit_2_L4.ipynb\" target=\"_parent\"><img src=\"https://colab.research.google.com/assets/colab-badge.svg\" alt=\"Open In Colab\"/></a>"
      ]
    },
    {
      "cell_type": "markdown",
      "source": [
        "1. Create a list that holds 5 data variables."
      ],
      "metadata": {
        "id": "3rZn3nZrro_R"
      }
    },
    {
      "cell_type": "code",
      "source": [
        "vowels = [\"a\", \"e\", \"i\", \"o\", \"u\"]\n",
        "print(vowels)"
      ],
      "metadata": {
        "colab": {
          "base_uri": "https://localhost:8080/"
        },
        "id": "JTfsZIKOsTUh",
        "outputId": "dd4c02d0-5124-4254-98f3-bccdeb40cc77"
      },
      "execution_count": 3,
      "outputs": [
        {
          "output_type": "stream",
          "name": "stdout",
          "text": [
            "['a', 'e', 'i', 'o', 'u']\n"
          ]
        }
      ]
    },
    {
      "cell_type": "markdown",
      "source": [
        "2. Print out those variables by using a for loop."
      ],
      "metadata": {
        "id": "uBhAsheVrsnI"
      }
    },
    {
      "cell_type": "code",
      "source": [
        "for letters in vowels:\n",
        "  print(letters)"
      ],
      "metadata": {
        "colab": {
          "base_uri": "https://localhost:8080/"
        },
        "id": "2htqUxuisyph",
        "outputId": "d0cb0816-2859-4292-8fb0-1b3f674b6940"
      },
      "execution_count": 4,
      "outputs": [
        {
          "output_type": "stream",
          "name": "stdout",
          "text": [
            "a\n",
            "e\n",
            "i\n",
            "o\n",
            "u\n"
          ]
        }
      ]
    },
    {
      "cell_type": "markdown",
      "source": [
        "3. Modify your for loop to add a message to your for loop."
      ],
      "metadata": {
        "id": "OKGFhIYbruj5"
      }
    },
    {
      "cell_type": "code",
      "source": [
        "for letters in vowels:\n",
        "  print(letters.title() + \", is one of the vowels!\")"
      ],
      "metadata": {
        "colab": {
          "base_uri": "https://localhost:8080/"
        },
        "id": "PWfvW9zOutJl",
        "outputId": "ed98f705-6ca2-4661-fe71-d6bef388f21b"
      },
      "execution_count": 6,
      "outputs": [
        {
          "output_type": "stream",
          "name": "stdout",
          "text": [
            "A, is one of the vowels!\n",
            "E, is one of the vowels!\n",
            "I, is one of the vowels!\n",
            "O, is one of the vowels!\n",
            "U, is one of the vowels!\n"
          ]
        }
      ]
    },
    {
      "cell_type": "markdown",
      "source": [
        "4. Use a for loop to print even numbers from 1-20."
      ],
      "metadata": {
        "id": "rhzYdIdJrxDH"
      }
    },
    {
      "cell_type": "code",
      "source": [
        "for num in range (2,21,2):\n",
        "  print(num)"
      ],
      "metadata": {
        "colab": {
          "base_uri": "https://localhost:8080/"
        },
        "id": "702-enNTvwGL",
        "outputId": "54ef5c12-066f-4e4b-96f9-feed3f87927a"
      },
      "execution_count": 12,
      "outputs": [
        {
          "output_type": "stream",
          "name": "stdout",
          "text": [
            "2\n",
            "4\n",
            "6\n",
            "8\n",
            "10\n",
            "12\n",
            "14\n",
            "16\n",
            "18\n",
            "20\n"
          ]
        }
      ]
    },
    {
      "cell_type": "markdown",
      "source": [
        "5. Sort your list in alphabetic order."
      ],
      "metadata": {
        "id": "Sy3vODuFry5Q"
      }
    },
    {
      "cell_type": "code",
      "source": [
        "print(sorted(vowels))"
      ],
      "metadata": {
        "colab": {
          "base_uri": "https://localhost:8080/"
        },
        "id": "bTnmp8xTxdqY",
        "outputId": "c01498ba-c13f-40a5-8403-9bc271eb6c40"
      },
      "execution_count": 15,
      "outputs": [
        {
          "output_type": "stream",
          "name": "stdout",
          "text": [
            "['a', 'e', 'i', 'o', 'u']\n"
          ]
        }
      ]
    },
    {
      "cell_type": "markdown",
      "source": [
        "6. Print out the first three elements of your list."
      ],
      "metadata": {
        "id": "KEd14Shgr1At"
      }
    },
    {
      "cell_type": "code",
      "source": [
        "print(vowels[0:3])"
      ],
      "metadata": {
        "colab": {
          "base_uri": "https://localhost:8080/"
        },
        "id": "h0NiJbrXxvYB",
        "outputId": "64b1743c-c333-4f96-babd-cca42cb53f82"
      },
      "execution_count": 14,
      "outputs": [
        {
          "output_type": "stream",
          "name": "stdout",
          "text": [
            "['a', 'e', 'i']\n"
          ]
        }
      ]
    },
    {
      "cell_type": "markdown",
      "source": [
        "7. Create a loop to print the last 2 elements of your list."
      ],
      "metadata": {
        "id": "yEIENF7Tr28o"
      }
    },
    {
      "cell_type": "code",
      "source": [
        "for num in vowels[-2:]:\n",
        "  print(num)"
      ],
      "metadata": {
        "colab": {
          "base_uri": "https://localhost:8080/"
        },
        "id": "S-3mxy1IzBGE",
        "outputId": "c6c0a758-8a35-4a3e-811a-0502c521e008"
      },
      "execution_count": 18,
      "outputs": [
        {
          "output_type": "stream",
          "name": "stdout",
          "text": [
            "o\n",
            "u\n"
          ]
        }
      ]
    }
  ]
}
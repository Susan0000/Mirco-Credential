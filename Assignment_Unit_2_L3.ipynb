{
  "nbformat": 4,
  "nbformat_minor": 0,
  "metadata": {
    "colab": {
      "name": "Assignment Unit 2_L3.ipynb",
      "provenance": [],
      "authorship_tag": "ABX9TyMyMEfFId8A7FmZuLtCLTF8",
      "include_colab_link": true
    },
    "kernelspec": {
      "name": "python3",
      "display_name": "Python 3"
    },
    "language_info": {
      "name": "python"
    }
  },
  "cells": [
    {
      "cell_type": "markdown",
      "metadata": {
        "id": "view-in-github",
        "colab_type": "text"
      },
      "source": [
        "<a href=\"https://colab.research.google.com/github/Susan0000/Mirco-Credential/blob/main/Assignment_Unit_2_L3.ipynb\" target=\"_parent\"><img src=\"https://colab.research.google.com/assets/colab-badge.svg\" alt=\"Open In Colab\"/></a>"
      ]
    },
    {
      "cell_type": "markdown",
      "source": [
        "1. Create a list of 5 of your favorite tv shows."
      ],
      "metadata": {
        "id": "k3b0QpBsQxEf"
      }
    },
    {
      "cell_type": "code",
      "source": [
        "tv_shows = [\"Stranger Things\", \"Squid Game\", \"Lucifer\", \"The Walking Dead\", \"The 100\"]"
      ],
      "metadata": {
        "id": "pRtYa0JIkRyO"
      },
      "execution_count": 1,
      "outputs": []
    },
    {
      "cell_type": "markdown",
      "source": [
        "2. Print the list in its original order."
      ],
      "metadata": {
        "id": "JPz_f6-lQ0vt"
      }
    },
    {
      "cell_type": "code",
      "source": [
        "print(tv_shows)"
      ],
      "metadata": {
        "colab": {
          "base_uri": "https://localhost:8080/"
        },
        "id": "BPWZ44jRlVDa",
        "outputId": "45cc2b1d-64b3-4cac-d069-402c0515e649"
      },
      "execution_count": 2,
      "outputs": [
        {
          "output_type": "stream",
          "name": "stdout",
          "text": [
            "['Stranger Things', 'Squid Game', 'Lucifer', 'The Walking Dead', 'The 100']\n"
          ]
        }
      ]
    },
    {
      "cell_type": "markdown",
      "source": [
        "3. Use the sorted() function to print the list in alphabetical order. How is sorted() different from\n",
        "sort()?\n",
        "\n",
        "When using sorted(), it rearrange the given sequence of element of the specific iterable object. The sort() method sorts the list."
      ],
      "metadata": {
        "id": "hiV0-oGoQ4t6"
      }
    },
    {
      "cell_type": "code",
      "source": [
        "print(sorted(tv_shows))"
      ],
      "metadata": {
        "colab": {
          "base_uri": "https://localhost:8080/"
        },
        "id": "BOsOVpaploD9",
        "outputId": "18340753-11a8-441d-d628-49bab681965e"
      },
      "execution_count": 3,
      "outputs": [
        {
          "output_type": "stream",
          "name": "stdout",
          "text": [
            "['Lucifer', 'Squid Game', 'Stranger Things', 'The 100', 'The Walking Dead']\n"
          ]
        }
      ]
    },
    {
      "cell_type": "markdown",
      "source": [
        "4. Print out your original list."
      ],
      "metadata": {
        "id": "awM6R7N7nlro"
      }
    },
    {
      "cell_type": "code",
      "source": [
        "print(tv_shows)"
      ],
      "metadata": {
        "colab": {
          "base_uri": "https://localhost:8080/"
        },
        "id": "V0dXnHAknymk",
        "outputId": "673e2df5-0083-41e3-b9e4-cdd83ddbe3f1"
      },
      "execution_count": 4,
      "outputs": [
        {
          "output_type": "stream",
          "name": "stdout",
          "text": [
            "['Stranger Things', 'Squid Game', 'Lucifer', 'The Walking Dead', 'The 100']\n"
          ]
        }
      ]
    },
    {
      "cell_type": "markdown",
      "source": [
        "5. Used sorted() to print your list in reverse alphabetical order."
      ],
      "metadata": {
        "id": "pVY4Mec6npT3"
      }
    },
    {
      "cell_type": "code",
      "source": [
        "print(sorted(tv_shows,reverse= True))"
      ],
      "metadata": {
        "colab": {
          "base_uri": "https://localhost:8080/"
        },
        "id": "Jf7L0XK5pNZ7",
        "outputId": "85a19036-1299-4b99-9851-bfd54fb3ccc0"
      },
      "execution_count": 9,
      "outputs": [
        {
          "output_type": "stream",
          "name": "stdout",
          "text": [
            "['The Walking Dead', 'The 100', 'Stranger Things', 'Squid Game', 'Lucifer']\n"
          ]
        }
      ]
    },
    {
      "cell_type": "markdown",
      "source": [
        "6. Create a message indicating how many favorite TV shows you have – use the len() function."
      ],
      "metadata": {
        "id": "LFcqOYRAns95"
      }
    },
    {
      "cell_type": "code",
      "source": [
        "print(\"I have\", len(tv_shows), \"favoriate TV shows\")"
      ],
      "metadata": {
        "colab": {
          "base_uri": "https://localhost:8080/"
        },
        "id": "R1b0SC7pqdNZ",
        "outputId": "1f011144-89b6-4b61-87c8-57942f18b267"
      },
      "execution_count": 13,
      "outputs": [
        {
          "output_type": "stream",
          "name": "stdout",
          "text": [
            "I have 5 favoriate TV shows\n"
          ]
        }
      ]
    }
  ]
}
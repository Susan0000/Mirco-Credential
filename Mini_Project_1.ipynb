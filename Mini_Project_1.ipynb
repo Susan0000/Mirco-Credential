{
  "nbformat": 4,
  "nbformat_minor": 0,
  "metadata": {
    "colab": {
      "name": "Mini Project 1.ipynb",
      "provenance": [],
      "authorship_tag": "ABX9TyMhDWdU5F/Gf54oRzin68i5",
      "include_colab_link": true
    },
    "kernelspec": {
      "name": "python3",
      "display_name": "Python 3"
    },
    "language_info": {
      "name": "python"
    }
  },
  "cells": [
    {
      "cell_type": "markdown",
      "metadata": {
        "id": "view-in-github",
        "colab_type": "text"
      },
      "source": [
        "<a href=\"https://colab.research.google.com/github/Susan0000/Mirco-Credential/blob/main/Mini_Project_1.ipynb\" target=\"_parent\"><img src=\"https://colab.research.google.com/assets/colab-badge.svg\" alt=\"Open In Colab\"/></a>"
      ]
    },
    {
      "cell_type": "code",
      "execution_count": 1,
      "metadata": {
        "colab": {
          "base_uri": "https://localhost:8080/"
        },
        "id": "c-igHFR4u-W4",
        "outputId": "d7d0e3ae-de04-43bd-d1ff-960aff0038af"
      },
      "outputs": [
        {
          "output_type": "stream",
          "name": "stdout",
          "text": [
            "Enter a number: 6\n",
            "Even\n"
          ]
        }
      ],
      "source": [
        "number = int(input(\"Enter a number: \"))\n",
        "div = number%2\n",
        "if div>0:\n",
        "  print(\"Odd\")\n",
        "else:\n",
        "  print(\"Even\")"
      ]
    },
    {
      "cell_type": "markdown",
      "source": [
        "Bonus:\n",
        "\n",
        "If the number is a muliple of 4, print out a different message.\n",
        "\n",
        "Ask the user for two numbers: one number to check (call it num) and one number to divide by (check). If check divides evenly into num, tell that to the user. If not, print a different appropriate message.\n",
        "\n",
        "Write a custom function for finding whether the number is even or odd and callit in you main program code."
      ],
      "metadata": {
        "id": "ca0PJVDfvpco"
      }
    },
    {
      "cell_type": "code",
      "source": [
        "number = int(input(\"Enter a number: \"))\n",
        "if number%4 == 0:\n",
        "  print(number,\"multiple of 4\")\n",
        "else:\n",
        "  print(number,\"is not a multiple of 4\")"
      ],
      "metadata": {
        "colab": {
          "base_uri": "https://localhost:8080/"
        },
        "id": "WuyV9qoawFGe",
        "outputId": "3e971abb-39fd-4d0c-b3f6-d401a65dd3b4"
      },
      "execution_count": 2,
      "outputs": [
        {
          "output_type": "stream",
          "name": "stdout",
          "text": [
            "Enter a number: 8\n",
            "8 multiple of 4\n"
          ]
        }
      ]
    },
    {
      "cell_type": "code",
      "source": [
        ""
      ],
      "metadata": {
        "id": "UopjiI3lwzbF"
      },
      "execution_count": null,
      "outputs": []
    }
  ]
}
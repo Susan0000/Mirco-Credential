{
  "nbformat": 4,
  "nbformat_minor": 0,
  "metadata": {
    "colab": {
      "name": "Unit_6_Tableau.ipynb",
      "provenance": [],
      "authorship_tag": "ABX9TyN58A5YbYhoQh2jKutlbmXL",
      "include_colab_link": true
    },
    "kernelspec": {
      "name": "python3",
      "display_name": "Python 3"
    },
    "language_info": {
      "name": "python"
    }
  },
  "cells": [
    {
      "cell_type": "markdown",
      "metadata": {
        "id": "view-in-github",
        "colab_type": "text"
      },
      "source": [
        "<a href=\"https://colab.research.google.com/github/Susan0000/Mirco-Credential/blob/main/Unit_6_Tableau.ipynb\" target=\"_parent\"><img src=\"https://colab.research.google.com/assets/colab-badge.svg\" alt=\"Open In Colab\"/></a>"
      ]
    },
    {
      "cell_type": "code",
      "execution_count": null,
      "metadata": {
        "id": "rvqK7rNhYJ7_"
      },
      "outputs": [],
      "source": [
        "https://public.tableau.com/app/profile/susan.b.lin/viz/GamesofThronesDeaths_16606821131700/KillersAppearances"
      ]
    }
  ]
}
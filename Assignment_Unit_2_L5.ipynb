{
  "nbformat": 4,
  "nbformat_minor": 0,
  "metadata": {
    "colab": {
      "name": "Assignment Unit 2_L5.ipynb",
      "provenance": [],
      "authorship_tag": "ABX9TyNmrhgBbO/nSv47kYT2oaPp",
      "include_colab_link": true
    },
    "kernelspec": {
      "name": "python3",
      "display_name": "Python 3"
    },
    "language_info": {
      "name": "python"
    }
  },
  "cells": [
    {
      "cell_type": "markdown",
      "metadata": {
        "id": "view-in-github",
        "colab_type": "text"
      },
      "source": [
        "<a href=\"https://colab.research.google.com/github/Susan0000/Mirco-Credential/blob/main/Assignment_Unit_2_L5.ipynb\" target=\"_parent\"><img src=\"https://colab.research.google.com/assets/colab-badge.svg\" alt=\"Open In Colab\"/></a>"
      ]
    },
    {
      "cell_type": "markdown",
      "source": [
        "1. Make a list of 5 or more usernames, including an admin account. Imagine you are writing code\n",
        "that will welcome people to your application on login. Loop through the list and print your\n",
        "greeting.\n",
        "\n",
        "a. If the admin account logs in, give them a special greeting. They’re the admin, after all!\n",
        "\n",
        "b. Other users can get the generic greeting"
      ],
      "metadata": {
        "id": "A2paeFYg0Kk7"
      }
    },
    {
      "cell_type": "code",
      "execution_count": 3,
      "metadata": {
        "colab": {
          "base_uri": "https://localhost:8080/"
        },
        "id": "gAFIWccgz_1v",
        "outputId": "0c327ef8-0d32-46c3-fb65-38641af49ef7"
      },
      "outputs": [
        {
          "output_type": "stream",
          "name": "stdout",
          "text": [
            "Welcome Admin! Have a great day!\n",
            "Welcome A\n",
            "Welcome B\n",
            "Welcome C\n",
            "Welcome D\n"
          ]
        }
      ],
      "source": [
        "accounts = [\"admin\", \"A\", \"B\", \"C\", \"D\"]\n",
        "for user in accounts:\n",
        "  if user == \"admin\":\n",
        "    print(\"Welcome Admin! Have a great day!\")\n",
        "  else:\n",
        "    print(\"Welcome \" + user)"
      ]
    },
    {
      "cell_type": "markdown",
      "source": [
        "2. Store numbers 1-10 in a list\n",
        "\n",
        "a. Loop through the list\n",
        "\n",
        "b. Use an if-elif-else chain inside your loop to print the ordinal ending for each number – for example – 1st , 2nd , 3rd … etc."
      ],
      "metadata": {
        "id": "Z4FfrIFf1dTY"
      }
    },
    {
      "cell_type": "code",
      "source": [
        "number = list(range(1,11))\n",
        "for num in number:\n",
        "  if num == 1:\n",
        "    print(\"1st\")\n",
        "  elif num == 2:\n",
        "    print(\"2nd\")\n",
        "  elif num == 3:\n",
        "    print(\"3rd\")\n",
        "  else:\n",
        "    print(str(num) + \"th\")"
      ],
      "metadata": {
        "colab": {
          "base_uri": "https://localhost:8080/"
        },
        "id": "qVXt4Xdu1nUC",
        "outputId": "ea184b4f-fd35-4ee6-cb7b-11ce55824a54"
      },
      "execution_count": 6,
      "outputs": [
        {
          "output_type": "stream",
          "name": "stdout",
          "text": [
            "1st\n",
            "2nd\n",
            "3rd\n",
            "4th\n",
            "5th\n",
            "6th\n",
            "7th\n",
            "8th\n",
            "9th\n",
            "10th\n"
          ]
        }
      ]
    }
  ]
}